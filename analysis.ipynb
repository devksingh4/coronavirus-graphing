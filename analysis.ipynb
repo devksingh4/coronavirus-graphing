{
 "cells": [
  {
   "cell_type": "code",
   "execution_count": null,
   "metadata": {},
   "outputs": [],
   "source": [
    "import pandas as pd\n",
    "import numpy as np\n",
    "import matplotlib.pyplot as plt\n",
    "from matplotlib.pyplot import figure\n",
    "import scipy\n",
    "import scipy.misc as m\n",
    "import scipy.optimize as o\n",
    "import os\n",
    "import io"
   ]
  },
  {
   "cell_type": "code",
   "execution_count": null,
   "metadata": {},
   "outputs": [],
   "source": [
    "config = {\n",
    "    \"countries\": [\"Italy\", \"US\"],\n",
    "    \"compare-to-us\": True,\n",
    "    \"exp-fit-country\": True,\n",
    "    \"exp-fit-us\": True,\n",
    "    \"label-points\": True,\n",
    "    \"stack\": False,\n",
    "    \"dataset\": \"confirmed\"\n",
    "}"
   ]
  },
  {
   "cell_type": "code",
   "execution_count": null,
   "metadata": {},
   "outputs": [],
   "source": [
    "df = pd.read_csv(config[\"dataset\"] + \".csv\")\n",
    "\n",
    "for country in config[\"countries\"]:\n",
    "    if config['compare-to-us'] == True:\n",
    "        us_data = df.loc[df[\"Country/Region\"] == \"US\"].T[4:].T.sum().to_frame()\n",
    "        us_dates = us_data.T.columns.to_numpy()\n",
    "        us_data = us_data.T.to_numpy()\n",
    "        x_us = np.array(list(range(0, len(us_dates))))\n",
    "        y_us = np.array(list(us_data[0]))\n",
    "        if config[\"exp-fit-us\"] == True:\n",
    "            fit_us = o.curve_fit(lambda t,a,b: a*np.exp(b*t),  x_us,  y_us, p0=(4, 0.1), maxfev=1000000000)\n",
    "            z_us = []\n",
    "            for xs_us in x_us:\n",
    "                z_us.append(float(float(fit_us[0][0]) * np.exp(float(fit_us[0][1])*float(xs_us))))\n",
    "            pred_y_us = np.array(z_us)\n",
    "\n",
    "    \n",
    "    italy_data = df.loc[df[\"Country/Region\"] == country].T[4:].T.sum().to_frame()\n",
    "    if country == \"World\":\n",
    "        italy_data = df.loc[df[\"Lat\"] != 0].T[4:].T.sum().to_frame()\n",
    "    italy_dates = italy_data.T.columns.to_numpy()\n",
    "    italy_data = italy_data.T.to_numpy()\n",
    "    x = np.array(list(range(0, len(italy_dates))))\n",
    "    y = np.array(list(italy_data[0]))\n",
    "    if config[\"exp-fit-country\"] == True:\n",
    "        fit = o.curve_fit(lambda t,a,b: a*np.exp(b*t),  x,  y, p0=(4, 0.1), maxfev=1000000000)    \n",
    "        z = []\n",
    "        for xs in x:\n",
    "            z.append(float(float(fit[0][0]) * np.exp(float(fit[0][1])*float(xs))))\n",
    "        pred_y = np.array(z)\n",
    "    \n",
    "#     def f(x3):\n",
    "#         return float(float(fit[0][0]) * np.exp(float(fit[0][1])*float(x3)))\n",
    "\n",
    "    ## Let's start plotting the data now that we have all of it.\n",
    "    plt.title(country + \" vs US Coronavirus cases, days since \" + str(italy_dates[0]))\n",
    "    if config[\"label-points\"] == True:    \n",
    "        for x1,y1 in zip(x,italy_data[0]):\n",
    "            plt.annotate(y1, # this is the text\n",
    "                         (x1,y1), # this is the point to label\n",
    "                         textcoords=\"offset points\", # how to position the text\n",
    "                         xytext=(0,10), # distance from text to points (x,y)\n",
    "                         ha='center') # horizontal alignment can be left, right or center\n",
    "        if config[\"compare-to-us\"] == True:\n",
    "            for x1_us,y1_us in zip(x_us,us_data[0]):\n",
    "                plt.annotate(y1_us, # this is the text\n",
    "                             (x1_us,y1_us), # this is the point to label\n",
    "                             textcoords=\"offset points\", # how to position the text\n",
    "                             xytext=(0,10), # distance from text to points (x,y)\n",
    "                             ha='center') # horizontal alignment can be left, right or center\n",
    "    plt.scatter(x, italy_data[0])\n",
    "    plt.plot(x, italy_data[0])\n",
    "    if config[\"exp-fit-country\"] == True:\n",
    "        plt.plot(x, pred_y)\n",
    "    if config[\"compare-to-us\"] == True:\n",
    "        plt.scatter(x_us, us_data[0])\n",
    "        plt.plot(x_us, us_data[0])\n",
    "        if config[\"exp-fit-us\"] == True:\n",
    "            plt.plot(x_us, pred_y_us)\n",
    "#     plt.xlabel(\"Second derivative on latest day: \" + str(m.derivative(f, x0=x[len(italy_dates) - 1], dx=1e-6, n=2)))\n",
    "#     plt.ylabel(\"US Second derivative on latest day: \" + str(m.derivative(f, x0=x_us[len(us_dates) - 1], dx=1e-6, n=2)))\n",
    "    fig = plt.gcf()\n",
    "    fig.set_size_inches(20, 12)\n",
    "    try:\n",
    "        fig.savefig(config[\"dataset\"] + '_figures/' + country + \"/\" + italy_dates[len(italy_dates) - 1].replace(\"/\", \"-\"), dpi=100)\n",
    "    except FileNotFoundError:\n",
    "        print(\"creating\")\n",
    "        os.mkdir(config[\"dataset\"] + \"_figures/\" + country + \"/\")\n",
    "        fig.savefig(config[\"dataset\"] + '_figures/' + country + \"/\" + italy_dates[len(italy_dates) - 1].replace(\"/\", \"-\"), dpi=100)\n",
    "    if config[\"stack\"] == False:\n",
    "        plt.clf()\n",
    "        "
   ]
  },
  {
   "cell_type": "code",
   "execution_count": null,
   "metadata": {},
   "outputs": [],
   "source": []
  },
  {
   "cell_type": "code",
   "execution_count": null,
   "metadata": {},
   "outputs": [],
   "source": []
  },
  {
   "cell_type": "code",
   "execution_count": null,
   "metadata": {},
   "outputs": [],
   "source": []
  },
  {
   "cell_type": "code",
   "execution_count": null,
   "metadata": {},
   "outputs": [],
   "source": []
  }
 ],
 "metadata": {
  "kernelspec": {
   "display_name": "Python 3",
   "language": "python",
   "name": "python3"
  },
  "language_info": {
   "codemirror_mode": {
    "name": "ipython",
    "version": 3
   },
   "file_extension": ".py",
   "mimetype": "text/x-python",
   "name": "python",
   "nbconvert_exporter": "python",
   "pygments_lexer": "ipython3",
   "version": "3.7.6-final"
  }
 },
 "nbformat": 4,
 "nbformat_minor": 4
}